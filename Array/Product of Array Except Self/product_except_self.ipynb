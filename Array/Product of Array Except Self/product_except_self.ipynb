{
 "cells": [
  {
   "cell_type": "code",
   "execution_count": 20,
   "metadata": {},
   "outputs": [],
   "source": [
    "def productExceptSelf(nums: list[int]) -> list[int]:\n",
    "    products = [0] * len(nums) \n",
    "    answer = [0] * len(nums)\n",
    "    for index in range(0, len(nums)):\n",
    "        prev = index - 1\n",
    "        if prev < 0:\n",
    "            products[index] = 1\n",
    "        else:\n",
    "            products[index] = nums[prev] * products[prev]\n",
    "\n",
    "    for index in range(len(nums) - 1 , -1, -1):\n",
    "        prev = index + 1\n",
    "        if prev >= len(nums):\n",
    "            answer[index] = 1 * products[index]\n",
    "            products[index] = 1\n",
    "        else:\n",
    "            answer[index] = products[index] * nums[prev] * products[prev]\n",
    "            products[index] = nums[prev] * products[prev]\n",
    "\n",
    "    return answer\n"
   ]
  },
  {
   "cell_type": "code",
   "execution_count": 22,
   "metadata": {},
   "outputs": [
    {
     "data": {
      "text/plain": [
       "[0, 0, 9, 0, 0]"
      ]
     },
     "execution_count": 22,
     "metadata": {},
     "output_type": "execute_result"
    }
   ],
   "source": [
    "productExceptSelf([-1,1,0,-3,3])"
   ]
  }
 ],
 "metadata": {
  "interpreter": {
   "hash": "04bf7c5048c44052f72b8bf37baf02c4a3c1f9aba82796c3f014f38260524f40"
  },
  "kernelspec": {
   "display_name": "Python 3.9.12 64-bit (windows store)",
   "language": "python",
   "name": "python3"
  },
  "language_info": {
   "codemirror_mode": {
    "name": "ipython",
    "version": 3
   },
   "file_extension": ".py",
   "mimetype": "text/x-python",
   "name": "python",
   "nbconvert_exporter": "python",
   "pygments_lexer": "ipython3",
   "version": "3.9.12"
  },
  "orig_nbformat": 4
 },
 "nbformat": 4,
 "nbformat_minor": 2
}
