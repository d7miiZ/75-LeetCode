{
 "cells": [
  {
   "cell_type": "code",
   "execution_count": 66,
   "metadata": {},
   "outputs": [],
   "source": [
    "def maxProfit(prices: list[int]) -> int:\n",
    "    min_buy = prices[0]\n",
    "    day_buy = 0\n",
    "    max_sell = prices[1]\n",
    "    max_profit = max_sell - min_buy\n",
    "    for day in range(1, len(prices) - 1):\n",
    "        if prices[day] <= min_buy:\n",
    "            min_buy = prices[day]\n",
    "            day_buy = day\n",
    "            max_sell = 0\n",
    "        if prices[day + 1] >= max_sell and day + 1 > day_buy:\n",
    "            max_sell = prices[day + 1]\n",
    "            if max_profit < max_sell - min_buy:\n",
    "                max_profit = max_sell - min_buy\n",
    "\n",
    "    return 0 if max_profit < 0 else max_profit"
   ]
  },
  {
   "cell_type": "code",
   "execution_count": 67,
   "metadata": {},
   "outputs": [
    {
     "data": {
      "text/plain": [
       "4"
      ]
     },
     "execution_count": 67,
     "metadata": {},
     "output_type": "execute_result"
    }
   ],
   "source": [
    "maxProfit([3,3,5,0,0,3,1,4])"
   ]
  }
 ],
 "metadata": {
  "interpreter": {
   "hash": "04bf7c5048c44052f72b8bf37baf02c4a3c1f9aba82796c3f014f38260524f40"
  },
  "kernelspec": {
   "display_name": "Python 3.9.12 64-bit (windows store)",
   "language": "python",
   "name": "python3"
  },
  "language_info": {
   "codemirror_mode": {
    "name": "ipython",
    "version": 3
   },
   "file_extension": ".py",
   "mimetype": "text/x-python",
   "name": "python",
   "nbconvert_exporter": "python",
   "pygments_lexer": "ipython3",
   "version": "3.9.12"
  },
  "orig_nbformat": 4
 },
 "nbformat": 4,
 "nbformat_minor": 2
}
